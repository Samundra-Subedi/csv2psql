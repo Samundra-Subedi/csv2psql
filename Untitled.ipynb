{
 "cells": [
  {
   "cell_type": "code",
   "execution_count": 1,
   "id": "b1c9e0b9-01b7-454d-8836-c03550b24ce9",
   "metadata": {},
   "outputs": [
    {
     "name": "stdout",
     "output_type": "stream",
     "text": [
      "Collecting pandas\n",
      "  Downloading pandas-2.2.3-cp313-cp313-win_amd64.whl.metadata (19 kB)\n",
      "Collecting numpy>=1.26.0 (from pandas)\n",
      "  Downloading numpy-2.2.2-cp313-cp313-win_amd64.whl.metadata (60 kB)\n",
      "Requirement already satisfied: python-dateutil>=2.8.2 in c:\\users\\asus\\appdata\\local\\programs\\python\\python313\\lib\\site-packages (from pandas) (2.9.0.post0)\n",
      "Collecting pytz>=2020.1 (from pandas)\n",
      "  Downloading pytz-2024.2-py2.py3-none-any.whl.metadata (22 kB)\n",
      "Collecting tzdata>=2022.7 (from pandas)\n",
      "  Downloading tzdata-2025.1-py2.py3-none-any.whl.metadata (1.4 kB)\n",
      "Requirement already satisfied: six>=1.5 in c:\\users\\asus\\appdata\\local\\programs\\python\\python313\\lib\\site-packages (from python-dateutil>=2.8.2->pandas) (1.17.0)\n",
      "Downloading pandas-2.2.3-cp313-cp313-win_amd64.whl (11.5 MB)\n",
      "   ---------------------------------------- 0.0/11.5 MB ? eta -:--:--\n",
      "   - -------------------------------------- 0.5/11.5 MB 4.0 MB/s eta 0:00:03\n",
      "   ---------- ----------------------------- 3.1/11.5 MB 9.6 MB/s eta 0:00:01\n",
      "   ---------------------- ----------------- 6.6/11.5 MB 13.2 MB/s eta 0:00:01\n",
      "   ---------------------------------------  11.3/11.5 MB 15.8 MB/s eta 0:00:01\n",
      "   ---------------------------------------- 11.5/11.5 MB 15.3 MB/s eta 0:00:00\n",
      "Downloading numpy-2.2.2-cp313-cp313-win_amd64.whl (12.6 MB)\n",
      "   ---------------------------------------- 0.0/12.6 MB ? eta -:--:--\n",
      "   ------------- -------------------------- 4.2/12.6 MB 20.2 MB/s eta 0:00:01\n",
      "   --------------------------- ------------ 8.7/12.6 MB 20.7 MB/s eta 0:00:01\n",
      "   ---------------------------------------- 12.6/12.6 MB 20.2 MB/s eta 0:00:00\n",
      "Downloading pytz-2024.2-py2.py3-none-any.whl (508 kB)\n",
      "Downloading tzdata-2025.1-py2.py3-none-any.whl (346 kB)\n",
      "Installing collected packages: pytz, tzdata, numpy, pandas\n",
      "Successfully installed numpy-2.2.2 pandas-2.2.3 pytz-2024.2 tzdata-2025.1\n",
      "Collecting psycopg2\n",
      "  Downloading psycopg2-2.9.10-cp313-cp313-win_amd64.whl.metadata (4.8 kB)\n",
      "Downloading psycopg2-2.9.10-cp313-cp313-win_amd64.whl (2.6 MB)\n",
      "   ---------------------------------------- 0.0/2.6 MB ? eta -:--:--\n",
      "   ---------------------------------------- 0.0/2.6 MB ? eta -:--:--\n",
      "   ------------------------ --------------- 1.6/2.6 MB 7.5 MB/s eta 0:00:01\n",
      "   ---------------------------------------- 2.6/2.6 MB 9.1 MB/s eta 0:00:00\n",
      "Installing collected packages: psycopg2\n",
      "Successfully installed psycopg2-2.9.10\n"
     ]
    }
   ],
   "source": [
    "!pip install pandas\n",
    "!pip install psycopg2"
   ]
  },
  {
   "cell_type": "code",
   "execution_count": 125,
   "id": "c1e5dc00-7d1c-47dc-91cf-95e57aab403b",
   "metadata": {},
   "outputs": [],
   "source": [
    "import psycopg2 \n",
    "import pandas as pd"
   ]
  },
  {
   "cell_type": "code",
   "execution_count": 126,
   "id": "828bc2b5-3b70-4835-a911-fd60a1a217f3",
   "metadata": {},
   "outputs": [],
   "source": [
    "#Function for creating database\n",
    "def create_db():\n",
    "    connection=psycopg2.connect(\"host=127.0.0.1 dbname=postgres user=postgres password=database\")\n",
    "    connection.set_session(autocommit=True)\n",
    "    crsr=connection.cursor()\n",
    "\n",
    "    #creating database\n",
    "    crsr.execute(\"DROP DATABASE IF EXISTS accounts\")\n",
    "    crsr.execute(\"CREATE DATABASE accounts\")\n",
    "\n",
    "    #close connection to default database\n",
    "    connection.close()\n",
    "\n",
    "    #connnect to the new database\n",
    "    connection=psycopg2.connect(\"host=127.0.0.1 dbname=accounts user=postgres password=database\")\n",
    "    crsr=connection.cursor()\n",
    "\n",
    "    return crsr, connection"
   ]
  },
  {
   "cell_type": "code",
   "execution_count": 127,
   "id": "3f951512-0d47-4c9d-96ac-71345800e8cd",
   "metadata": {},
   "outputs": [],
   "source": [
    "#Function for dropping table\n",
    "def drop_table(crsr,connection):\n",
    "    for query in drop_tb_query:\n",
    "        crsr.execute(query)\n",
    "        conncetion.commit()"
   ]
  },
  {
   "cell_type": "code",
   "execution_count": 128,
   "id": "908e68a5-fcdc-4597-b19e-d044bcae8dbf",
   "metadata": {},
   "outputs": [],
   "source": [
    "#function for creating table\n",
    "def create_table(crsr, connection):\n",
    "    for query in create_tb_query:\n",
    "        crsr.execute(query)\n",
    "        connection.commit()"
   ]
  },
  {
   "cell_type": "code",
   "execution_count": 129,
   "id": "aa346d44-3647-41e2-b6eb-857b29fabea9",
   "metadata": {},
   "outputs": [],
   "source": [
    "#now reading and cleaning data according to needs\n",
    "AccountsData=pd.read_csv(\"data/Wealth-AccountData.csv\")"
   ]
  },
  {
   "cell_type": "code",
   "execution_count": 130,
   "id": "6995c266-eb69-4ea3-a156-775dc717cc18",
   "metadata": {},
   "outputs": [
    {
     "data": {
      "text/plain": [
       "Index(['Country Name', 'Country Code', 'Series Name', 'Series Code',\n",
       "       '1995 [YR1995]', '1996 [YR1996]', '1997 [YR1997]', '1998 [YR1998]',\n",
       "       '1999 [YR1999]', '2000 [YR2000]', '2001 [YR2001]', '2002 [YR2002]',\n",
       "       '2003 [YR2003]', '2004 [YR2004]', '2005 [YR2005]', '2006 [YR2006]',\n",
       "       '2007 [YR2007]', '2008 [YR2008]', '2009 [YR2009]', '2010 [YR2010]',\n",
       "       '2011 [YR2011]', '2012 [YR2012]', '2013 [YR2013]', '2014 [YR2014]',\n",
       "       '2015 [YR2015]', '2016 [YR2016]', '2017 [YR2017]', '2018 [YR2018]'],\n",
       "      dtype='object')"
      ]
     },
     "execution_count": 130,
     "metadata": {},
     "output_type": "execute_result"
    }
   ],
   "source": [
    "AccountsData.columns\n"
   ]
  },
  {
   "cell_type": "code",
   "execution_count": 131,
   "id": "aba6388f-3ace-488f-ae9c-194c67b3ea34",
   "metadata": {},
   "outputs": [
    {
     "name": "stdout",
     "output_type": "stream",
     "text": [
      "<class 'pandas.core.frame.DataFrame'>\n",
      "RangeIndex: 7592 entries, 0 to 7591\n",
      "Data columns (total 28 columns):\n",
      " #   Column         Non-Null Count  Dtype  \n",
      "---  ------         --------------  -----  \n",
      " 0   Country Name   7592 non-null   object \n",
      " 1   Country Code   7592 non-null   object \n",
      " 2   Series Name    7592 non-null   object \n",
      " 3   Series Code    7592 non-null   object \n",
      " 4   1995 [YR1995]  7592 non-null   object \n",
      " 5   1996 [YR1996]  7592 non-null   object \n",
      " 6   1997 [YR1997]  7592 non-null   object \n",
      " 7   1998 [YR1998]  7592 non-null   object \n",
      " 8   1999 [YR1999]  7592 non-null   object \n",
      " 9   2000 [YR2000]  7592 non-null   object \n",
      " 10  2001 [YR2001]  7592 non-null   object \n",
      " 11  2002 [YR2002]  7592 non-null   object \n",
      " 12  2003 [YR2003]  7592 non-null   object \n",
      " 13  2004 [YR2004]  7592 non-null   object \n",
      " 14  2005 [YR2005]  7592 non-null   float64\n",
      " 15  2006 [YR2006]  7592 non-null   float64\n",
      " 16  2007 [YR2007]  7592 non-null   float64\n",
      " 17  2008 [YR2008]  7592 non-null   float64\n",
      " 18  2009 [YR2009]  7592 non-null   float64\n",
      " 19  2010 [YR2010]  7592 non-null   float64\n",
      " 20  2011 [YR2011]  7592 non-null   float64\n",
      " 21  2012 [YR2012]  7592 non-null   float64\n",
      " 22  2013 [YR2013]  7592 non-null   float64\n",
      " 23  2014 [YR2014]  7592 non-null   float64\n",
      " 24  2015 [YR2015]  7592 non-null   float64\n",
      " 25  2016 [YR2016]  7592 non-null   object \n",
      " 26  2017 [YR2017]  7592 non-null   object \n",
      " 27  2018 [YR2018]  7592 non-null   object \n",
      "dtypes: float64(11), object(17)\n",
      "memory usage: 1.6+ MB\n"
     ]
    }
   ],
   "source": [
    "AccountsData.info()"
   ]
  },
  {
   "cell_type": "code",
   "execution_count": 132,
   "id": "b37df46d-2b81-4768-8a16-ebd0ce3f1f6d",
   "metadata": {},
   "outputs": [],
   "source": [
    "AccountsData=AccountsData[['Country Name', 'Country Code', 'Series Name', 'Series Code', '2005 [YR2005]', '2010 [YR2010]', '2015 [YR2015]']]"
   ]
  },
  {
   "cell_type": "code",
   "execution_count": 133,
   "id": "54b0e5c1-b05a-4ec6-b0ee-2a0fddaf5e2e",
   "metadata": {},
   "outputs": [
    {
     "data": {
      "text/html": [
       "<div>\n",
       "<style scoped>\n",
       "    .dataframe tbody tr th:only-of-type {\n",
       "        vertical-align: middle;\n",
       "    }\n",
       "\n",
       "    .dataframe tbody tr th {\n",
       "        vertical-align: top;\n",
       "    }\n",
       "\n",
       "    .dataframe thead th {\n",
       "        text-align: right;\n",
       "    }\n",
       "</style>\n",
       "<table border=\"1\" class=\"dataframe\">\n",
       "  <thead>\n",
       "    <tr style=\"text-align: right;\">\n",
       "      <th></th>\n",
       "      <th>Country Name</th>\n",
       "      <th>Country Code</th>\n",
       "      <th>Series Name</th>\n",
       "      <th>Series Code</th>\n",
       "      <th>2005 [YR2005]</th>\n",
       "      <th>2010 [YR2010]</th>\n",
       "      <th>2015 [YR2015]</th>\n",
       "    </tr>\n",
       "  </thead>\n",
       "  <tbody>\n",
       "    <tr>\n",
       "      <th>0</th>\n",
       "      <td>Albania</td>\n",
       "      <td>ALB</td>\n",
       "      <td>Human capital (constant 2018 US$)</td>\n",
       "      <td>NW.HCA.TO</td>\n",
       "      <td>5.440000e+10</td>\n",
       "      <td>6.810000e+10</td>\n",
       "      <td>7.370000e+10</td>\n",
       "    </tr>\n",
       "    <tr>\n",
       "      <th>1</th>\n",
       "      <td>Albania</td>\n",
       "      <td>ALB</td>\n",
       "      <td>Human capital per capita (constant 2018 US$)</td>\n",
       "      <td>NW.HCA.PC</td>\n",
       "      <td>1.807230e+04</td>\n",
       "      <td>2.336286e+04</td>\n",
       "      <td>2.559371e+04</td>\n",
       "    </tr>\n",
       "    <tr>\n",
       "      <th>2</th>\n",
       "      <td>Albania</td>\n",
       "      <td>ALB</td>\n",
       "      <td>Human capital per capita, employed female (con...</td>\n",
       "      <td>NW.HCA.FEMP.PC</td>\n",
       "      <td>2.222115e+03</td>\n",
       "      <td>2.889150e+03</td>\n",
       "      <td>2.987545e+03</td>\n",
       "    </tr>\n",
       "    <tr>\n",
       "      <th>3</th>\n",
       "      <td>Albania</td>\n",
       "      <td>ALB</td>\n",
       "      <td>Human capital per capita, employed male (const...</td>\n",
       "      <td>NW.HCA.MEMP.PC</td>\n",
       "      <td>1.168935e+04</td>\n",
       "      <td>1.578992e+04</td>\n",
       "      <td>1.730701e+04</td>\n",
       "    </tr>\n",
       "    <tr>\n",
       "      <th>4</th>\n",
       "      <td>Albania</td>\n",
       "      <td>ALB</td>\n",
       "      <td>Human capital per capita, female (constant 201...</td>\n",
       "      <td>NW.HCA.FEMA.PC</td>\n",
       "      <td>2.886736e+03</td>\n",
       "      <td>3.613606e+03</td>\n",
       "      <td>3.767628e+03</td>\n",
       "    </tr>\n",
       "  </tbody>\n",
       "</table>\n",
       "</div>"
      ],
      "text/plain": [
       "  Country Name Country Code  \\\n",
       "0      Albania          ALB   \n",
       "1      Albania          ALB   \n",
       "2      Albania          ALB   \n",
       "3      Albania          ALB   \n",
       "4      Albania          ALB   \n",
       "\n",
       "                                         Series Name     Series Code  \\\n",
       "0                  Human capital (constant 2018 US$)       NW.HCA.TO   \n",
       "1       Human capital per capita (constant 2018 US$)       NW.HCA.PC   \n",
       "2  Human capital per capita, employed female (con...  NW.HCA.FEMP.PC   \n",
       "3  Human capital per capita, employed male (const...  NW.HCA.MEMP.PC   \n",
       "4  Human capital per capita, female (constant 201...  NW.HCA.FEMA.PC   \n",
       "\n",
       "   2005 [YR2005]  2010 [YR2010]  2015 [YR2015]  \n",
       "0   5.440000e+10   6.810000e+10   7.370000e+10  \n",
       "1   1.807230e+04   2.336286e+04   2.559371e+04  \n",
       "2   2.222115e+03   2.889150e+03   2.987545e+03  \n",
       "3   1.168935e+04   1.578992e+04   1.730701e+04  \n",
       "4   2.886736e+03   3.613606e+03   3.767628e+03  "
      ]
     },
     "execution_count": 133,
     "metadata": {},
     "output_type": "execute_result"
    }
   ],
   "source": [
    "AccountsData.head()"
   ]
  },
  {
   "cell_type": "code",
   "execution_count": 134,
   "id": "f29ff226-06a2-4148-8c82-f79c8948c1f6",
   "metadata": {},
   "outputs": [
    {
     "data": {
      "text/plain": [
       "Index(['Country Name', 'Country Code', 'Series Name', 'Series Code',\n",
       "       '2005 [YR2005]', '2010 [YR2010]', '2015 [YR2015]'],\n",
       "      dtype='object')"
      ]
     },
     "execution_count": 134,
     "metadata": {},
     "output_type": "execute_result"
    }
   ],
   "source": [
    "AccountsData.columns"
   ]
  },
  {
   "cell_type": "code",
   "execution_count": 135,
   "id": "606f1611-cce8-4047-9d56-213168ffbe8f",
   "metadata": {},
   "outputs": [],
   "source": [
    "AccountsCountry=pd.read_csv(\"data/Wealth-AccountsCountry.csv\")"
   ]
  },
  {
   "cell_type": "code",
   "execution_count": 136,
   "id": "e1fd7a58-80bf-42f2-bf2e-166e3c580f7e",
   "metadata": {},
   "outputs": [
    {
     "data": {
      "text/plain": [
       "Index(['Code', 'Long Name', 'Income Group', 'Region', 'Lending category',\n",
       "       'Other groups', 'Currency Unit', 'Latest population census',\n",
       "       'Latest household survey', 'Special Notes',\n",
       "       'National accounts base year', 'National accounts reference year',\n",
       "       'System of National Accounts', 'SNA price valuation',\n",
       "       'Alternative conversion factor', 'PPP survey years',\n",
       "       'Balance of Payments Manual in use', 'External debt Reporting status',\n",
       "       'System of trade', 'Government Accounting concept',\n",
       "       'IMF data dissemination standard',\n",
       "       'Source of most recent Income and expenditure data',\n",
       "       'Vital registration complete', 'Latest agricultural census',\n",
       "       'Latest industrial data', 'Latest trade data',\n",
       "       'Latest water withdrawal data', '2-alpha code', 'WB-2 code',\n",
       "       'Table Name', 'Short Name'],\n",
       "      dtype='object')"
      ]
     },
     "execution_count": 136,
     "metadata": {},
     "output_type": "execute_result"
    }
   ],
   "source": [
    "AccountsCountry.columns\n"
   ]
  },
  {
   "cell_type": "code",
   "execution_count": 137,
   "id": "e6d2c36a-5187-4b5e-a633-c66de0548314",
   "metadata": {},
   "outputs": [],
   "source": [
    "AccountsCountry_clean=AccountsCountry[['Code', 'Short Name', 'Table Name','Long Name','Currency Unit']]"
   ]
  },
  {
   "cell_type": "code",
   "execution_count": 138,
   "id": "fbee8454-bfdf-4bb1-a741-2588e7ca709f",
   "metadata": {},
   "outputs": [
    {
     "data": {
      "text/html": [
       "<div>\n",
       "<style scoped>\n",
       "    .dataframe tbody tr th:only-of-type {\n",
       "        vertical-align: middle;\n",
       "    }\n",
       "\n",
       "    .dataframe tbody tr th {\n",
       "        vertical-align: top;\n",
       "    }\n",
       "\n",
       "    .dataframe thead th {\n",
       "        text-align: right;\n",
       "    }\n",
       "</style>\n",
       "<table border=\"1\" class=\"dataframe\">\n",
       "  <thead>\n",
       "    <tr style=\"text-align: right;\">\n",
       "      <th></th>\n",
       "      <th>Code</th>\n",
       "      <th>Short Name</th>\n",
       "      <th>Table Name</th>\n",
       "      <th>Long Name</th>\n",
       "      <th>Currency Unit</th>\n",
       "    </tr>\n",
       "  </thead>\n",
       "  <tbody>\n",
       "    <tr>\n",
       "      <th>0</th>\n",
       "      <td>ALB</td>\n",
       "      <td>Albania</td>\n",
       "      <td>Albania</td>\n",
       "      <td>Republic of Albania</td>\n",
       "      <td>Albanian lek</td>\n",
       "    </tr>\n",
       "    <tr>\n",
       "      <th>1</th>\n",
       "      <td>ARG</td>\n",
       "      <td>Argentina</td>\n",
       "      <td>Argentina</td>\n",
       "      <td>Argentine Republic</td>\n",
       "      <td>Argentine peso</td>\n",
       "    </tr>\n",
       "    <tr>\n",
       "      <th>2</th>\n",
       "      <td>ARM</td>\n",
       "      <td>Armenia</td>\n",
       "      <td>Armenia</td>\n",
       "      <td>Republic of Armenia</td>\n",
       "      <td>Armenian dram</td>\n",
       "    </tr>\n",
       "    <tr>\n",
       "      <th>3</th>\n",
       "      <td>AUS</td>\n",
       "      <td>Australia</td>\n",
       "      <td>Australia</td>\n",
       "      <td>Commonwealth of Australia</td>\n",
       "      <td>Australian dollar</td>\n",
       "    </tr>\n",
       "    <tr>\n",
       "      <th>4</th>\n",
       "      <td>AUT</td>\n",
       "      <td>Austria</td>\n",
       "      <td>Austria</td>\n",
       "      <td>Republic of Austria</td>\n",
       "      <td>Euro</td>\n",
       "    </tr>\n",
       "  </tbody>\n",
       "</table>\n",
       "</div>"
      ],
      "text/plain": [
       "  Code Short Name Table Name                  Long Name      Currency Unit\n",
       "0  ALB    Albania    Albania        Republic of Albania       Albanian lek\n",
       "1  ARG  Argentina  Argentina         Argentine Republic     Argentine peso\n",
       "2  ARM    Armenia    Armenia        Republic of Armenia      Armenian dram\n",
       "3  AUS  Australia  Australia  Commonwealth of Australia  Australian dollar\n",
       "4  AUT    Austria    Austria        Republic of Austria               Euro"
      ]
     },
     "execution_count": 138,
     "metadata": {},
     "output_type": "execute_result"
    }
   ],
   "source": [
    "AccountsCountry_clean.head()"
   ]
  },
  {
   "cell_type": "code",
   "execution_count": 139,
   "id": "c5bbd17d-0cf7-4c0e-b34d-dcd630093dfd",
   "metadata": {},
   "outputs": [],
   "source": [
    "AccountsSeries=pd.read_csv(\"data/Wealth-AccountSeries.csv\")"
   ]
  },
  {
   "cell_type": "code",
   "execution_count": 140,
   "id": "982879bd-53c0-45c8-92cb-d1609a4cf392",
   "metadata": {},
   "outputs": [],
   "source": [
    "AccountsSeries=AccountsSeries[['Code','Topic','Indicator Name', 'Long definition']]"
   ]
  },
  {
   "cell_type": "code",
   "execution_count": 141,
   "id": "2293e2c6-514c-47e5-a1d8-70b41245d473",
   "metadata": {},
   "outputs": [],
   "source": [
    "#now using the functions for creating database and tables\n",
    "crsr, connection=create_db()"
   ]
  },
  {
   "cell_type": "code",
   "execution_count": 142,
   "id": "d433905f-348e-440d-bf04-1b2abe37bf39",
   "metadata": {},
   "outputs": [],
   "source": [
    "#for accountscountry\n",
    "accounts_country_table_create=(\"\"\"CREATE TABLE IF NOT EXISTS accountscountry(\n",
    "country_code VARCHAR ,\n",
    "short_name VARCHAR,\n",
    "table_name VARCHAR,\n",
    "long_name VARCHAR,\n",
    "currency_name VARCHAR\n",
    ") \"\"\")"
   ]
  },
  {
   "cell_type": "code",
   "execution_count": 143,
   "id": "974b60ed-31ec-4d43-b8f8-84afe425e1bf",
   "metadata": {},
   "outputs": [],
   "source": [
    "crsr.execute(accounts_country_table_create)\n",
    "connection.commit()\n"
   ]
  },
  {
   "cell_type": "code",
   "execution_count": 144,
   "id": "8bbea7f4-33f5-4307-a9ee-2f9a642a38f4",
   "metadata": {},
   "outputs": [],
   "source": [
    "#for accountsdata\n",
    "accounts_data_table_create=(\"\"\"CREATE TABLE IF NOT EXISTS accountsdata(\n",
    "country_name VARCHAR,\n",
    "country_code VARCHAR,\n",
    "series_name VARCHAR,\n",
    "series_code VARCHAR,\n",
    "year_2005 numeric,\n",
    "year_2010 numeric,\n",
    "year_2015 numeric\n",
    ") \"\"\")\n",
    "crsr.execute(accounts_data_table_create)\n",
    "connection.commit()"
   ]
  },
  {
   "cell_type": "code",
   "execution_count": 145,
   "id": "aeb77871-db41-4a8a-bd1a-c4e858abb4ca",
   "metadata": {},
   "outputs": [],
   "source": [
    "#for accountsSeries\n",
    "accounts_series_table_create=(\"\"\"CREATE TABLE IF NOT EXISTS accountsseries(\n",
    "code VARCHAR,\n",
    "topic VARCHAR,\n",
    "indicator_name VARCHAR,\n",
    "long_definition VARCHAR\n",
    ") \"\"\")\n",
    "crsr.execute(accounts_series_table_create)\n",
    "connection.commit()"
   ]
  },
  {
   "cell_type": "code",
   "execution_count": 146,
   "id": "900171a5-fe21-409c-bf65-8542b6bbd29f",
   "metadata": {},
   "outputs": [],
   "source": [
    "#for data insertion in accounts country table\n",
    "accounts_country_table_insert=(\"\"\"INSERT INTO accountscountry(\n",
    "country_code ,\n",
    "short_name ,\n",
    "table_name ,\n",
    "long_name ,\n",
    "currency_name \n",
    ") \n",
    "VALUES(%s,%s,%s,%s,%s )\n",
    "\"\"\")"
   ]
  },
  {
   "cell_type": "code",
   "execution_count": 147,
   "id": "60a4127c-8078-4db6-aced-5b683f4b6d13",
   "metadata": {},
   "outputs": [],
   "source": [
    "#now putting the data from the csv into the created database table\n",
    "for i, row in AccountsCountry_clean.iterrows():\n",
    "     crsr.execute(accounts_country_table_insert, list(row))"
   ]
  },
  {
   "cell_type": "code",
   "execution_count": 148,
   "id": "93f05bb6-b8d5-4934-9d57-5b5a27aceb12",
   "metadata": {},
   "outputs": [],
   "source": [
    "connection.commit()"
   ]
  },
  {
   "cell_type": "code",
   "execution_count": 149,
   "id": "714d5390-468b-4cc0-8d77-359f4f8f63ed",
   "metadata": {},
   "outputs": [
    {
     "name": "stdout",
     "output_type": "stream",
     "text": [
      "<class 'pandas.core.frame.DataFrame'>\n",
      "RangeIndex: 7592 entries, 0 to 7591\n",
      "Data columns (total 7 columns):\n",
      " #   Column         Non-Null Count  Dtype  \n",
      "---  ------         --------------  -----  \n",
      " 0   Country Name   7592 non-null   object \n",
      " 1   Country Code   7592 non-null   object \n",
      " 2   Series Name    7592 non-null   object \n",
      " 3   Series Code    7592 non-null   object \n",
      " 4   2005 [YR2005]  7592 non-null   float64\n",
      " 5   2010 [YR2010]  7592 non-null   float64\n",
      " 6   2015 [YR2015]  7592 non-null   float64\n",
      "dtypes: float64(3), object(4)\n",
      "memory usage: 415.3+ KB\n"
     ]
    }
   ],
   "source": [
    "AccountsData.info()"
   ]
  },
  {
   "cell_type": "code",
   "execution_count": 150,
   "id": "3700737a-b3a2-4ffe-94e9-690d74a987e9",
   "metadata": {},
   "outputs": [],
   "source": [
    "#for data insertion in accounts data table\n",
    "accounts_data_insert=(\"\"\"INSERT INTO accountsdata(\n",
    "country_name ,\n",
    "country_code ,\n",
    "series_name ,\n",
    "series_code ,\n",
    "year_2005 ,\n",
    "year_2010 ,\n",
    "year_2015 \n",
    ")\n",
    "VALUES(%s,%s,%s,%s,%s,%s,%s )\n",
    "\"\"\")\n",
    " #now putting the data from the csv into the created database table\n",
    "for i, row in AccountsData.iterrows():\n",
    "    #print(row)\n",
    "    crsr.execute(accounts_data_insert, list(row))"
   ]
  },
  {
   "cell_type": "code",
   "execution_count": 151,
   "id": "c927f747-4bba-499f-a6ec-e238a4c35c6d",
   "metadata": {},
   "outputs": [],
   "source": [
    "#for data insertion in accounts series table\n",
    "accounts_series_insert=(\"\"\"INSERT INTO accountsseries(\n",
    "code,\n",
    "topic ,\n",
    "indicator_name ,\n",
    "long_definition \n",
    ")\n",
    "VALUES(%s,%s,%s,%s )\n",
    "\"\"\")\n",
    " #now putting the data from the csv into the created database table\n",
    "for i, row in AccountsSeries.iterrows():\n",
    "    crsr.execute(accounts_series_insert, list(row))"
   ]
  },
  {
   "cell_type": "code",
   "execution_count": null,
   "id": "841486c5-1494-43e0-b548-63cf9f1d6305",
   "metadata": {},
   "outputs": [],
   "source": []
  }
 ],
 "metadata": {
  "kernelspec": {
   "display_name": "Python 3 (ipykernel)",
   "language": "python",
   "name": "python3"
  },
  "language_info": {
   "codemirror_mode": {
    "name": "ipython",
    "version": 3
   },
   "file_extension": ".py",
   "mimetype": "text/x-python",
   "name": "python",
   "nbconvert_exporter": "python",
   "pygments_lexer": "ipython3",
   "version": "3.13.1"
  }
 },
 "nbformat": 4,
 "nbformat_minor": 5
}
