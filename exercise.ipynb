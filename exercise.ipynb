{
 "cells": [
  {
   "cell_type": "code",
   "execution_count": 1,
   "id": "21bf6e85-0657-46b8-85db-6a8009d01c6a",
   "metadata": {},
   "outputs": [
    {
     "name": "stdout",
     "output_type": "stream",
     "text": [
      "Defaulting to user installation because normal site-packages is not writeable\n",
      "Collecting psycopg2\n",
      "  Downloading psycopg2-2.9.10-cp313-cp313-win_amd64.whl.metadata (4.8 kB)\n",
      "Downloading psycopg2-2.9.10-cp313-cp313-win_amd64.whl (2.6 MB)\n",
      "   ---------------------------------------- 0.0/2.6 MB ? eta -:--:--\n",
      "   -------- ------------------------------- 0.5/2.6 MB 5.6 MB/s eta 0:00:01\n",
      "   ---------------------------------------- 2.6/2.6 MB 11.8 MB/s eta 0:00:00\n",
      "Installing collected packages: psycopg2\n",
      "Successfully installed psycopg2-2.9.10\n"
     ]
    }
   ],
   "source": [
    "#Installing and importing library for connection to database\n",
    "!pip install psycopg2\n"
   ]
  },
  {
   "cell_type": "code",
   "execution_count": 2,
   "id": "0c6cb945-ede8-4d60-831f-05ab0d8650aa",
   "metadata": {},
   "outputs": [],
   "source": [
    "import psycopg2"
   ]
  },
  {
   "cell_type": "code",
   "execution_count": 14,
   "id": "1f3c7770-90f5-4fcc-9921-b4479ff92cca",
   "metadata": {},
   "outputs": [],
   "source": [
    "#Connecting to database\n",
    "try:\n",
    "    connection=psycopg2.connect(\n",
    "        \"host=127.0.0.1 dbname=postgres user=postgres password=database\")\n",
    "except psycopg2.Error as e:\n",
    "    print(\"Error: could not connect to Postgres database\")\n",
    "    print(e)\n",
    "    "
   ]
  },
  {
   "cell_type": "code",
   "execution_count": 15,
   "id": "9949494a-4be1-48de-927d-4728fac8f2ef",
   "metadata": {},
   "outputs": [],
   "source": [
    "#Getting a cursor for executing queries\n",
    "try: \n",
    "    crsr=connection.cursor()\n",
    "except psycopg2.Error as e:\n",
    "    print(\"Error: Can`t get the cursor to the database\")\n",
    "    print (e)"
   ]
  },
  {
   "cell_type": "code",
   "execution_count": 16,
   "id": "b0f09e8e-190e-4866-aeb5-2f56d050b9ac",
   "metadata": {},
   "outputs": [],
   "source": [
    "#setting auto commit true to avoid calling connnection.commit() each time\n",
    "connection.set_session(autocommit=True)"
   ]
  },
  {
   "cell_type": "code",
   "execution_count": 17,
   "id": "133747f6-f67a-49e3-bc96-8af477468794",
   "metadata": {},
   "outputs": [
    {
     "name": "stdout",
     "output_type": "stream",
     "text": [
      "database \"firstdb\" already exists\n",
      "\n"
     ]
    }
   ],
   "source": [
    "#Creating database\n",
    "try:\n",
    "    crsr.execute(\"Create database Firstdb;\")\n",
    "except psycopg2.Error as e:\n",
    "    print(e)"
   ]
  },
  {
   "cell_type": "code",
   "execution_count": 18,
   "id": "284b23d7-0fd1-4a8b-833b-da431c7eedcd",
   "metadata": {},
   "outputs": [],
   "source": [
    "#closing previous connection and connecting to created database and getting a new cursor\n",
    "try:\n",
    "    crsr.close()\n",
    "except psycopg2.Error as e:\n",
    "    print(e)\n",
    "\n",
    "try:\n",
    "    connection=psycopg2.connect(\n",
    "        \"host=127.0.0.1 dbname=firstdb user=postgres password=database\")\n",
    "except psycopg2.Error as e:\n",
    "    print(\"Error: could not connect to Postgres database\")\n",
    "    print(e)\n",
    "\n",
    "try: \n",
    "    crsr=connection.cursor()\n",
    "except psycopg2.Error as e:\n",
    "    print(\"Error: Can`t get the cursor to the database\")\n",
    "    print (e)\n",
    "\n",
    "connection.set_session(autocommit=True)"
   ]
  },
  {
   "cell_type": "code",
   "execution_count": 21,
   "id": "eeaa2cc6-81a2-4e1f-b40a-5ceec9b82f7a",
   "metadata": {},
   "outputs": [],
   "source": [
    "try: \n",
    "    crsr.execute(\"CREATE TABLE IF NOT EXISTS students (student_id int, name varchar,\\\n",
    "    age int, gender varchar, subject varchar, marks int);\")\n",
    "except psycopg2.Error as e: \n",
    "    print(\"Error: Issue creating table\")\n",
    "    print (e)"
   ]
  },
  {
   "cell_type": "code",
   "execution_count": 23,
   "id": "f828d1c2-3604-4e83-ae14-53452dd52d69",
   "metadata": {},
   "outputs": [],
   "source": [
    "#inserting values\n",
    "try: \n",
    "    crsr.execute(\"INSERT INTO students (student_id, name, age, gender, subject, marks) \\\n",
    "                 VALUES (%s, %s, %s, %s, %s, %s)\", \\\n",
    "                 (1, \"Ram\", 20, \"Male\", \"DE\", 89))\n",
    "except psycopg2.Error as e: \n",
    "    print(\"Error: Inserting Rows\")\n",
    "    print (e)\n",
    "    \n",
    "try: \n",
    "    crsr.execute(\"INSERT INTO students (student_id, name, age, gender, subject, marks) \\\n",
    "                  VALUES (%s, %s, %s, %s, %s, %s)\",\n",
    "                  ( 2, \"Sita\", 19, \"Female\", \"Python\", 88))\n",
    "except psycopg2.Error as e: \n",
    "    print(\"Error: Inserting Rows\")\n",
    "    print (e)"
   ]
  },
  {
   "cell_type": "code",
   "execution_count": 24,
   "id": "a1fda1d6-e5d4-4876-b6fb-a11f291e250a",
   "metadata": {},
   "outputs": [
    {
     "name": "stdout",
     "output_type": "stream",
     "text": [
      "(1, 'Ram', 20, 'Male', 'DE', 89)\n",
      "(2, 'Sita', 19, 'Female', 'Python', 88)\n"
     ]
    }
   ],
   "source": [
    "#checking data inserted\n",
    "try: \n",
    "    crsr.execute(\"SELECT * FROM students;\")\n",
    "except psycopg2.Error as e: \n",
    "    print(\"Error: Selection\")\n",
    "    print (e)\n",
    "\n",
    "row=crsr.fetchone()\n",
    "while row:\n",
    "    print(row)\n",
    "    row=crsr.fetchone()"
   ]
  },
  {
   "cell_type": "code",
   "execution_count": 25,
   "id": "17e506a1-42a6-4248-a809-6074b1715cc9",
   "metadata": {},
   "outputs": [],
   "source": [
    "#closing connection and cursor\n",
    "crsr.close()\n",
    "connection.close()"
   ]
  },
  {
   "cell_type": "code",
   "execution_count": null,
   "id": "e3013625-a255-48c7-88d2-7b25a11b1c0c",
   "metadata": {},
   "outputs": [],
   "source": []
  }
 ],
 "metadata": {
  "kernelspec": {
   "display_name": "Python 3 (ipykernel)",
   "language": "python",
   "name": "python3"
  },
  "language_info": {
   "codemirror_mode": {
    "name": "ipython",
    "version": 3
   },
   "file_extension": ".py",
   "mimetype": "text/x-python",
   "name": "python",
   "nbconvert_exporter": "python",
   "pygments_lexer": "ipython3",
   "version": "3.13.1"
  }
 },
 "nbformat": 4,
 "nbformat_minor": 5
}
